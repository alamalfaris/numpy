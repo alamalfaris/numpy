{
 "cells": [
  {
   "cell_type": "code",
   "execution_count": 1,
   "metadata": {},
   "outputs": [],
   "source": [
    "import numpy as np"
   ]
  },
  {
   "cell_type": "code",
   "execution_count": 8,
   "metadata": {},
   "outputs": [
    {
     "name": "stdout",
     "output_type": "stream",
     "text": [
      "[1 2 3]\n",
      "[4 5 6]\n",
      "Gabung horizontal: [1 2 3 4 5 6]\n",
      "Gabung vertikal:\n",
      "[[1 2 3]\n",
      " [4 5 6]]\n"
     ]
    }
   ],
   "source": [
    "# Coba gabung 2 array 1d\n",
    "\n",
    "a = np.array([1,2,3])\n",
    "b = np.array([4,5,6])\n",
    "print(a)\n",
    "print(b)\n",
    "\n",
    "# Nah sekarang kita mulai gabungin\n",
    "# Gabungin nya ada 2 macam, gabung secara vertikal atau horizontal\n",
    "\n",
    "# Kita gabung horizontal dulu\n",
    "\n",
    "c = np.hstack((a,b))  # Kalo case gini, digabung horizontal, hasilnya array 1d\n",
    "print('Gabung horizontal:', c)\n",
    "\n",
    "# Sekarang kita gabung vertikal\n",
    "\n",
    "d = np.vstack((a,b))  # Kalo case gini, digabung vertikal, hasilnya array 2d\n",
    "print('Gabung vertikal:')\n",
    "print(d)"
   ]
  },
  {
   "cell_type": "code",
   "execution_count": 19,
   "metadata": {},
   "outputs": [
    {
     "name": "stdout",
     "output_type": "stream",
     "text": [
      "a:\n",
      "[[0. 0. 0.]\n",
      " [0. 0. 0.]]\n",
      "b:\n",
      "[[1. 1. 1.]\n",
      " [1. 1. 1.]]\n",
      "Gabung horizontal:\n",
      "[[0. 0. 0. 1. 1. 1.]\n",
      " [0. 0. 0. 1. 1. 1.]]\n",
      "Gabung vertikal:\n",
      "[[0. 0. 0.]\n",
      " [0. 0. 0.]\n",
      " [1. 1. 1.]\n",
      " [1. 1. 1.]]\n"
     ]
    }
   ],
   "source": [
    "# Coba gabung 2 array 2d\n",
    "\n",
    "a = np.zeros((2,3))\n",
    "b = np.ones((2,3))\n",
    "print('a:')\n",
    "print(a)\n",
    "print('b:')\n",
    "print(b)\n",
    "\n",
    "# Nah kita coba gabung\n",
    "\n",
    "# Secara horizontal dulu\n",
    "\n",
    "c = np.hstack((a,b))\n",
    "print('Gabung horizontal:')\n",
    "print(c)\n",
    "\n",
    "# Secara vertikal\n",
    "\n",
    "d = np.vstack((a,b))\n",
    "print('Gabung vertikal:')\n",
    "print(d)"
   ]
  },
  {
   "cell_type": "code",
   "execution_count": 22,
   "metadata": {},
   "outputs": [
    {
     "name": "stdout",
     "output_type": "stream",
     "text": [
      "a:\n",
      "[[[0. 0. 0. 0.]\n",
      "  [0. 0. 0. 0.]\n",
      "  [0. 0. 0. 0.]]\n",
      "\n",
      " [[0. 0. 0. 0.]\n",
      "  [0. 0. 0. 0.]\n",
      "  [0. 0. 0. 0.]]]\n",
      "b:\n",
      "[[[1. 1. 1. 1.]\n",
      "  [1. 1. 1. 1.]\n",
      "  [1. 1. 1. 1.]]\n",
      "\n",
      " [[1. 1. 1. 1.]\n",
      "  [1. 1. 1. 1.]\n",
      "  [1. 1. 1. 1.]]]\n",
      "Gabung horizontal:\n",
      "[[[0. 0. 0. 0.]\n",
      "  [0. 0. 0. 0.]\n",
      "  [0. 0. 0. 0.]\n",
      "  [1. 1. 1. 1.]\n",
      "  [1. 1. 1. 1.]\n",
      "  [1. 1. 1. 1.]]\n",
      "\n",
      " [[0. 0. 0. 0.]\n",
      "  [0. 0. 0. 0.]\n",
      "  [0. 0. 0. 0.]\n",
      "  [1. 1. 1. 1.]\n",
      "  [1. 1. 1. 1.]\n",
      "  [1. 1. 1. 1.]]]\n",
      "Gabung vertikal:\n",
      "[[[0. 0. 0. 0.]\n",
      "  [0. 0. 0. 0.]\n",
      "  [0. 0. 0. 0.]]\n",
      "\n",
      " [[0. 0. 0. 0.]\n",
      "  [0. 0. 0. 0.]\n",
      "  [0. 0. 0. 0.]]\n",
      "\n",
      " [[1. 1. 1. 1.]\n",
      "  [1. 1. 1. 1.]\n",
      "  [1. 1. 1. 1.]]\n",
      "\n",
      " [[1. 1. 1. 1.]\n",
      "  [1. 1. 1. 1.]\n",
      "  [1. 1. 1. 1.]]]\n"
     ]
    }
   ],
   "source": [
    "# Coba gabung 2 array 3d\n",
    "\n",
    "a = np.zeros((2,3,4))\n",
    "b = np.ones((2,3,4))\n",
    "print('a:')\n",
    "print(a)\n",
    "print('b:')\n",
    "print(b)\n",
    "\n",
    "# Gabung secara horizontal\n",
    "c = np.hstack((a,b))\n",
    "print('Gabung horizontal:')\n",
    "print(c)\n",
    "\n",
    "# Gabung secara vertikal\n",
    "d = np.vstack((a,b))\n",
    "print('Gabung vertikal:')\n",
    "print(d)"
   ]
  },
  {
   "cell_type": "code",
   "execution_count": null,
   "metadata": {},
   "outputs": [],
   "source": []
  }
 ],
 "metadata": {
  "kernelspec": {
   "display_name": "Python 3",
   "language": "python",
   "name": "python3"
  },
  "language_info": {
   "codemirror_mode": {
    "name": "ipython",
    "version": 3
   },
   "file_extension": ".py",
   "mimetype": "text/x-python",
   "name": "python",
   "nbconvert_exporter": "python",
   "pygments_lexer": "ipython3",
   "version": "3.7.6"
  }
 },
 "nbformat": 4,
 "nbformat_minor": 4
}
