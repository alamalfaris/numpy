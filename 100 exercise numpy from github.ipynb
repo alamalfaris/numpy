{
 "cells": [
  {
   "cell_type": "code",
   "execution_count": 2,
   "metadata": {},
   "outputs": [],
   "source": [
    "# 1 Import the numpy package under the name np (★☆☆)\n",
    "\n",
    "import numpy as np"
   ]
  },
  {
   "cell_type": "code",
   "execution_count": 3,
   "metadata": {},
   "outputs": [
    {
     "name": "stdout",
     "output_type": "stream",
     "text": [
      "1.18.1\n"
     ]
    }
   ],
   "source": [
    "# 2 Print the numpy version and the configuration (★☆☆)\n",
    "\n",
    "print(np.__version__)"
   ]
  },
  {
   "cell_type": "code",
   "execution_count": 5,
   "metadata": {},
   "outputs": [
    {
     "name": "stdout",
     "output_type": "stream",
     "text": [
      "[0. 0. 0. 0. 0. 0. 0. 0. 0. 0.]\n"
     ]
    }
   ],
   "source": [
    "# 3 Create a null vector of size 10 (★☆☆)\n",
    "\n",
    "vektor = np.zeros(10)\n",
    "print(vektor)"
   ]
  },
  {
   "cell_type": "code",
   "execution_count": 6,
   "metadata": {},
   "outputs": [
    {
     "name": "stdout",
     "output_type": "stream",
     "text": [
      "80\n"
     ]
    }
   ],
   "source": [
    "# 4 How to find the memory size of any array (★☆☆)\n",
    "\n",
    "print(vektor.size * vektor.itemsize)  # rumus size memory of array\n",
    "                                      # vektor.size utk mendapatkan number of element\n",
    "                                      # vektor.itemsize utk mendapatkan byte size of element"
   ]
  },
  {
   "cell_type": "code",
   "execution_count": 10,
   "metadata": {},
   "outputs": [],
   "source": [
    "# 5 How to get the documentation of the numpy add function from the command line? (★☆☆)"
   ]
  },
  {
   "cell_type": "code",
   "execution_count": 3,
   "metadata": {},
   "outputs": [
    {
     "name": "stdout",
     "output_type": "stream",
     "text": [
      "[0. 0. 0. 0. 1. 0. 0. 0. 0. 0.]\n",
      "10\n"
     ]
    }
   ],
   "source": [
    "# 6 Create a null vector of size 10 but the fifth value which is 1 (★☆☆)\n",
    "\n",
    "vektor = np.zeros(10)  # Buat vektor dgn nilai 0 size nya 10. Dengan function zeros\n",
    "vektor[4]=1            # Nilai ke-5 atau index ke-4 diganti dgn 1\n",
    "print(vektor)\n",
    "print(vektor.size)"
   ]
  },
  {
   "cell_type": "code",
   "execution_count": 107,
   "metadata": {},
   "outputs": [
    {
     "name": "stdout",
     "output_type": "stream",
     "text": [
      "[10 11 12 13 14 15 16 17 18 19 20 21 22 23 24 25 26 27 28 29 30 31 32 33\n",
      " 34 35 36 37 38 39 40 41 42 43 44 45 46 47 48 49]\n"
     ]
    }
   ],
   "source": [
    "# 7 Create a vector with values ranging from 10 to 49 (★☆☆)\n",
    "\n",
    "vektor = np.arange(10,50)  # Membuat vektor / 1d array dgn nilai 10-49 dgn function arange(10,50)\n",
    "print(vektor)"
   ]
  },
  {
   "cell_type": "code",
   "execution_count": 108,
   "metadata": {},
   "outputs": [
    {
     "name": "stdout",
     "output_type": "stream",
     "text": [
      "[49 48 47 46 45 44 43 42 41 40 39 38 37 36 35 34 33 32 31 30 29 28 27 26\n",
      " 25 24 23 22 21 20 19 18 17 16 15 14 13 12 11 10]\n"
     ]
    }
   ],
   "source": [
    "# 8 Reverse a vector (first element becomes last) (★☆☆)\n",
    "\n",
    "# print(vektor[::-1])\n",
    "print(np.flipud(vektor))"
   ]
  },
  {
   "cell_type": "code",
   "execution_count": 102,
   "metadata": {},
   "outputs": [],
   "source": [
    "?np.flipud\n",
    "# Flip the entries in each column in the up/down direction.\n",
    "# Rows are preserved, but appear in a different order than before."
   ]
  },
  {
   "cell_type": "code",
   "execution_count": 29,
   "metadata": {},
   "outputs": [
    {
     "name": "stdout",
     "output_type": "stream",
     "text": [
      "[[0 1 2]\n",
      " [3 4 5]\n",
      " [6 7 8]]\n"
     ]
    }
   ],
   "source": [
    "# 9 Create a 3x3 matrix with values ranging from 0 to 8 (★☆☆)\n",
    "\n",
    "vektor = np.arange(0,9).reshape(3,3)  # Use arange function with parameter (0,9).\n",
    "print(vektor)                         # Then, use function reshape(3,3) to change vector to matrix"
   ]
  },
  {
   "cell_type": "code",
   "execution_count": 24,
   "metadata": {},
   "outputs": [
    {
     "name": "stdout",
     "output_type": "stream",
     "text": [
      "(array([0, 1, 4], dtype=int64),)\n"
     ]
    }
   ],
   "source": [
    "# 10 Find indices of non-zero elements from [1,2,0,0,4,0] (★☆☆)\n",
    "\n",
    "vektor = [1,2,0,0,4,0]\n",
    "print(np.nonzero(vektor))  # Jadi guna dri nonzero ini utk me-return index dri elemen yg nilainya bukan 0 dlm suatu array"
   ]
  },
  {
   "cell_type": "code",
   "execution_count": 109,
   "metadata": {},
   "outputs": [],
   "source": [
    "?np.nonzero\n",
    "# Me-return index dari nilai selain 0 dalam suatu array"
   ]
  },
  {
   "cell_type": "code",
   "execution_count": 5,
   "metadata": {},
   "outputs": [
    {
     "name": "stdout",
     "output_type": "stream",
     "text": [
      "[[1. 0. 0.]\n",
      " [0. 1. 0.]\n",
      " [0. 0. 1.]]\n"
     ]
    }
   ],
   "source": [
    "# 11 Create a 3x3 identity matrix (★☆☆)\n",
    "\n",
    "mat_identitas = np.eye(3)  # Bisa juga pake np.identity()\n",
    "print(mat_identitas)"
   ]
  },
  {
   "cell_type": "code",
   "execution_count": 113,
   "metadata": {},
   "outputs": [],
   "source": [
    "?np.random.random\n",
    "# Return random floats in the half-open interval (0.0, 1.0)"
   ]
  },
  {
   "cell_type": "code",
   "execution_count": 50,
   "metadata": {},
   "outputs": [
    {
     "name": "stdout",
     "output_type": "stream",
     "text": [
      "[[[0.69379359 0.65008278 0.97043771]\n",
      "  [0.85733937 0.532073   0.07532906]\n",
      "  [0.79502595 0.49874574 0.10010693]]\n",
      "\n",
      " [[0.8587551  0.92272712 0.01734737]\n",
      "  [0.65674431 0.65623686 0.53587682]\n",
      "  [0.48076851 0.05783349 0.84855822]]\n",
      "\n",
      " [[0.17513655 0.34448449 0.78589556]\n",
      "  [0.74082978 0.73157945 0.13983786]\n",
      "  [0.16671387 0.49592542 0.55907129]]]\n"
     ]
    }
   ],
   "source": [
    "# 12 Create a 3x3x3 array with random values (★☆☆)\n",
    "\n",
    "matrix = np.random.random((3,3,3))  # Jadi guna random.random ni utk me-return float secara random dgn interval 0-1 \n",
    "print(matrix)                       # Kita tinggal tambahin aja shape array nya mau seperti apa"
   ]
  },
  {
   "cell_type": "code",
   "execution_count": 44,
   "metadata": {},
   "outputs": [
    {
     "name": "stdout",
     "output_type": "stream",
     "text": [
      "[[0.25462894 0.93969094 0.43161061 0.30013394 0.94737048 0.98682626\n",
      "  0.60165303 0.48769136 0.1447942  0.86898161]\n",
      " [0.62146789 0.43380968 0.5737588  0.70060397 0.59705808 0.67595506\n",
      "  0.24895019 0.74622274 0.46658086 0.10513204]\n",
      " [0.21937205 0.19965216 0.67568875 0.35701917 0.1073994  0.84534867\n",
      "  0.16626208 0.81133314 0.11813557 0.32673887]\n",
      " [0.24874801 0.3621933  0.11025766 0.16351217 0.22434924 0.90670897\n",
      "  0.24194272 0.30480621 0.16583896 0.21896714]\n",
      " [0.58814163 0.61062998 0.08888722 0.8779074  0.28250409 0.68884251\n",
      "  0.02333013 0.18661632 0.52878351 0.22056769]\n",
      " [0.38985541 0.73730634 0.14906946 0.76706762 0.08370315 0.41360347\n",
      "  0.80485162 0.09608883 0.6844489  0.58125741]\n",
      " [0.03506958 0.92179292 0.43593371 0.19757577 0.71469227 0.67627013\n",
      "  0.35850162 0.7708331  0.99744599 0.11776021]\n",
      " [0.64869241 0.40716947 0.78520092 0.65331441 0.97944893 0.99947\n",
      "  0.0637705  0.04693311 0.32222679 0.33804886]\n",
      " [0.98351567 0.45308826 0.08510653 0.79244969 0.50407587 0.88941937\n",
      "  0.33398283 0.32541508 0.5259213  0.7018261 ]\n",
      " [0.55693586 0.16777136 0.03387425 0.0332154  0.29966052 0.44682864\n",
      "  0.94069096 0.06920492 0.84923893 0.80810722]]\n",
      "Max value in array: 0.9994700025360886\n",
      "Min value in array: 0.023330127325271177\n"
     ]
    }
   ],
   "source": [
    "# 13 Create a 10x10 array with random values and find the minimum and maximum values (★☆☆)\n",
    "\n",
    "matrix = np.random.random((10,10))\n",
    "print(matrix)\n",
    "print(f'Max value in array: {matrix.max()}')\n",
    "print(f'Min value in array: {matrix.min()}')"
   ]
  },
  {
   "cell_type": "code",
   "execution_count": 6,
   "metadata": {},
   "outputs": [
    {
     "name": "stdout",
     "output_type": "stream",
     "text": [
      "[0.47672299 0.70309895 0.64775567 0.18536307 0.57349405 0.67959493\n",
      " 0.00955034 0.97110271 0.32910135 0.39075683 0.66862808 0.09378754\n",
      " 0.01112007 0.85350143 0.79479019 0.80478689 0.47708753 0.01036736\n",
      " 0.50559089 0.27761771 0.87128603 0.51094927 0.45181108 0.9710539\n",
      " 0.37666674 0.78945901 0.50100067 0.51412889 0.08480302 0.38418055]\n",
      "Mean of this array: 0.49730525774520823\n"
     ]
    }
   ],
   "source": [
    "# 14 Create a random vector of size 30 and find the mean value (★☆☆)\n",
    "\n",
    "vektor = np.random.random(30)\n",
    "print(vektor)\n",
    "print(f'Mean of this array: {np.mean(vektor)}') # Guna mean utk mencari mean dlm suatu array"
   ]
  },
  {
   "cell_type": "code",
   "execution_count": 11,
   "metadata": {},
   "outputs": [
    {
     "name": "stdout",
     "output_type": "stream",
     "text": [
      "[[1 1 1 1 1 1]\n",
      " [1 1 1 1 1 1]\n",
      " [1 1 1 1 1 1]\n",
      " [1 1 1 1 1 1]\n",
      " [1 1 1 1 1 1]\n",
      " [1 1 1 1 1 1]]\n",
      "36\n",
      "\n",
      "\n",
      "[[1 1 1 1 1 1]\n",
      " [1 0 0 0 0 1]\n",
      " [1 0 0 0 0 1]\n",
      " [1 0 0 0 0 1]\n",
      " [1 0 0 0 0 1]\n",
      " [1 1 1 1 1 1]]\n",
      "36\n"
     ]
    }
   ],
   "source": [
    "# 15 Create a 2d array with 1 on the border and 0 inside (★☆☆)\n",
    "\n",
    "x = np.ones((6,6), dtype=np.int)  # Buat array with ones value\n",
    "print(x)\n",
    "print(x.size)\n",
    "print('\\n')\n",
    "x[1:-1, 1:-1]=0   # Assign nilai 0 pada baris 1-5 dan kolom 1-5 dgn slicing\n",
    "print(x)\n",
    "print(x.size)"
   ]
  },
  {
   "cell_type": "code",
   "execution_count": 62,
   "metadata": {},
   "outputs": [
    {
     "name": "stdout",
     "output_type": "stream",
     "text": [
      "[[7 7 7]\n",
      " [7 7 7]\n",
      " [7 7 7]\n",
      " [7 7 7]]\n",
      "\n",
      "\n",
      "[[7 7 7]\n",
      " [7 7 7]\n",
      " [7 7 7]\n",
      " [7 7 7]]\n"
     ]
    }
   ],
   "source": [
    "# dri ka Alfa\n",
    "# Create a 2d array with 7 in all value\n",
    "\n",
    "matrix1 = np.full((4,3),7)  # Guna full utk buat array dengan 1 elemen tertentu, kita masukan shape array nya dan 1 elemen nya\n",
    "matrix2 = np.ones((4,3), dtype=np.int) * 7  # Buat dlu array ones value lalu dikali 7\n",
    "print(matrix1)\n",
    "print('\\n')\n",
    "print(matrix2)"
   ]
  },
  {
   "cell_type": "code",
   "execution_count": 10,
   "metadata": {},
   "outputs": [
    {
     "name": "stdout",
     "output_type": "stream",
     "text": [
      "[[5 8 2]\n",
      " [4 5 8]\n",
      " [5 7 6]]\n",
      "9\n",
      "\n",
      "\n",
      "[[0 0 0 0 0]\n",
      " [0 5 8 2 0]\n",
      " [0 4 5 8 0]\n",
      " [0 5 7 6 0]\n",
      " [0 0 0 0 0]]\n",
      "25\n"
     ]
    }
   ],
   "source": [
    "# 16 How to add a border (filled with 0's) around an existing array? (★☆☆)\n",
    "\n",
    "matrix = np.random.randint(1,9,9).reshape(3,3)  # Buat dlu array, sembarang aja tapi shape nya simetris e.g (3,3)\n",
    "print(matrix)\n",
    "print(matrix.size) # Size matrix awal, sebelum di-lapisi border\n",
    "print('\\n')\n",
    "matrix = np.pad(matrix, pad_width=1, mode='constant', constant_values=0)  # Like kita mau melapisi existing array with border angka 0\n",
    "print(matrix)\n",
    "print(matrix.size) # Size matrix setelah di-lapisi border"
   ]
  },
  {
   "cell_type": "code",
   "execution_count": 9,
   "metadata": {},
   "outputs": [],
   "source": [
    "?np.pad"
   ]
  },
  {
   "cell_type": "code",
   "execution_count": 90,
   "metadata": {},
   "outputs": [],
   "source": [
    "# 17 What is the result of the following expression? (★☆☆)\n",
    "\n",
    "# 0 * np.nan # --> not a number (NaN)\n",
    "# np.nan == np.nan # --> is always False\n",
    "# np.inf > np.nan # --> False because np.nan is not a number\n",
    "# np.nan - np.nan # --> nan\n",
    "# np.nan in set([np.nan]) # --> True\n",
    "# 0.3 == 3 * 0.1 # --> False"
   ]
  },
  {
   "cell_type": "code",
   "execution_count": 93,
   "metadata": {},
   "outputs": [
    {
     "name": "stdout",
     "output_type": "stream",
     "text": [
      "[[1 0 0 0 0]\n",
      " [0 2 0 0 0]\n",
      " [0 0 3 0 0]\n",
      " [0 0 0 4 0]\n",
      " [0 0 0 0 5]]\n"
     ]
    }
   ],
   "source": [
    "# 18 Create a 5x5 matrix with values 1,2,3,4 just below the diagonal (★☆☆)\n",
    "matrix = np.diag((1,2,3,4,5))  # Guna diag disini utk membuat array zeros value dgn diagonal tertentu\n",
    "print(matrix)"
   ]
  },
  {
   "cell_type": "code",
   "execution_count": 12,
   "metadata": {},
   "outputs": [],
   "source": [
    "?np.diag\n",
    "# Extract a diagonal or construct a diagonal array.\n",
    "# Jadi diag ni bisa digunakan utk meng-ekstrak diagonal suatu array\n",
    "# Dan bisa juga digunakan utk membuat array dgn diagonal tertentu"
   ]
  },
  {
   "cell_type": "code",
   "execution_count": 18,
   "metadata": {},
   "outputs": [
    {
     "name": "stdout",
     "output_type": "stream",
     "text": [
      "[[0 1 0 1 0 1 0 1]\n",
      " [1 0 1 0 1 0 1 0]\n",
      " [0 1 0 1 0 1 0 1]\n",
      " [1 0 1 0 1 0 1 0]\n",
      " [0 1 0 1 0 1 0 1]\n",
      " [1 0 1 0 1 0 1 0]\n",
      " [0 1 0 1 0 1 0 1]\n",
      " [1 0 1 0 1 0 1 0]]\n"
     ]
    }
   ],
   "source": [
    "# 19 Create a 8x8 matrix and fill it with a checkerboard pattern (★☆☆)\n",
    "\n",
    "matrix = np.zeros((8,8), dtype=np.int)  # Buat dlu array zeros value, size 8x8\n",
    "matrix[1::2, ::2] = 1  # Assign nilai 1 pd baris 1-8 longkap 2, kolom 0-8 longkap 2 dgn slicing\n",
    "matrix[::2, 1::2] = 1  # Assign nilai 1 pd baris 0-8 longkap 2, kolom 1-8 longkap 2 dgn slicing\n",
    "print(matrix)"
   ]
  },
  {
   "cell_type": "code",
   "execution_count": 7,
   "metadata": {},
   "outputs": [
    {
     "data": {
      "text/plain": [
       "(1, 5, 4)"
      ]
     },
     "execution_count": 7,
     "metadata": {},
     "output_type": "execute_result"
    }
   ],
   "source": [
    "# 20 Consider a (6,7,8) shape array, what is the index (x,y,z) of the 100th element?\n",
    "\n",
    "np.unravel_index(100, (6,7,8))  # Jadi unravel_index tu utk mengonversi indeks datar atau larik indeks datar menjadi tupel dari koordinat array.\n",
    "                                # Contoh disitu kita mau cari index dri elemen ke-100 dalam matrix yg berbentuk (6,7,8)"
   ]
  },
  {
   "cell_type": "code",
   "execution_count": 6,
   "metadata": {},
   "outputs": [],
   "source": [
    "?np.unravel_index"
   ]
  },
  {
   "cell_type": "code",
   "execution_count": null,
   "metadata": {},
   "outputs": [],
   "source": []
  }
 ],
 "metadata": {
  "kernelspec": {
   "display_name": "Python 3",
   "language": "python",
   "name": "python3"
  },
  "language_info": {
   "codemirror_mode": {
    "name": "ipython",
    "version": 3
   },
   "file_extension": ".py",
   "mimetype": "text/x-python",
   "name": "python",
   "nbconvert_exporter": "python",
   "pygments_lexer": "ipython3",
   "version": "3.7.6"
  }
 },
 "nbformat": 4,
 "nbformat_minor": 4
}
